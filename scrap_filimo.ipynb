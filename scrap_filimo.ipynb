{
 "cells": [
  {
   "cell_type": "code",
   "execution_count": 3,
   "metadata": {},
   "outputs": [],
   "source": [
    "import requests\n",
    "from bs4 import BeautifulSoup\n",
    "from urllib import response\n",
    "import json"
   ]
  },
  {
   "cell_type": "code",
   "execution_count": 10,
   "metadata": {},
   "outputs": [],
   "source": [
    "def extract_moviedata(url):\n",
    "\n",
    "    resp=requests.get(url)\n",
    "    content=resp.text\n",
    "    s=BeautifulSoup(content,\"html.parser\")\n",
    "    title_fa=((s.find_all('div',attrs={\"class\":\"fa-title ui-fw-semibold\"}))[0].find_all('span')[0].text.replace('\\n',''))\n",
    "    ti_en=s.find_all('p', attrs={\"class\":\"en-title\"})\n",
    "    if ti_en == [] :\n",
    "        title_en=''\n",
    "    else:\n",
    "        title_en=(ti_en[0].text.replace('\\n',''))\n",
    "    MS=s.find_all('p',attrs={\"class\":\"toTruncate\"})\n",
    "    if MS== None:\n",
    "        movie_story=''\n",
    "    else:\n",
    "        movie_story=(MS[0].text)\n",
    "    \n",
    "    description=(s.find_all('div' , attrs={\"class\":\"gallery_each-movie\"})[1].text.replace('\\n',''))\n",
    "    poster_url=(s.find_all('div', attrs={\"class\":\"ds-media ds-thumb_media\"})[0].find('img')['data-src'])\n",
    "\n",
    "    y=''\n",
    "    year_list=s.find('tr',attrs={\"class\":\"details_poster-description-more ui-mb-6x d-flex\"}).text.split('-')\n",
    "    if year_list!=None:\n",
    "        for yl in year_list :\n",
    "            if str.isdigit(yl.strip()) :\n",
    "                y=int(yl)\n",
    "                \n",
    "    year=(y)\n",
    "\n",
    "    movie_dict={}\n",
    "    movie_dict['Title']=title_fa\n",
    "    movie_dict['Title_En']=title_en\n",
    "    movie_dict['description']=description\n",
    "    movie_dict['movie_story']=movie_story\n",
    "    movie_dict['poster_url']=poster_url\n",
    "    movie_dict['year']=year\n",
    "\n",
    "    return movie_dict"
   ]
  },
  {
   "cell_type": "code",
   "execution_count": 14,
   "metadata": {},
   "outputs": [],
   "source": [
    "M_Data=[]\n",
    "page=1\n",
    "\n",
    "while(True):\n",
    "    print(page)\n",
    "    URL='https://www.filimo.com/cms/movie/loadmore/tagid/577/more_type/infinity/show_serial_parent/1/perpage/40/page/'\n",
    "    response=requests.get(URL+str(page)+'/')\n",
    "    html_content=response.text\n",
    "    soup=BeautifulSoup(html_content,'html.parser')\n",
    "    movies_div=soup.find_all('div',attrs={'class':'item'})\n",
    "\n",
    "    if movies_div==[]:\n",
    "        # print('empty')\n",
    "        break\n",
    "\n",
    "    for movies in movies_div:\n",
    "        a_tags=movies.find_all('a',attrs={'class':'ui-pl-8x'})\n",
    "        for a_tag in a_tags:\n",
    "            url=a_tag['href']\n",
    "            movie0=extract_moviedata(url)\n",
    "            M_Data.append(movie0)\n",
    "\n",
    "    print(len(M_Data))\n",
    "    page +=1\n",
    "    # print(M_Data)\n",
    "    \n",
    "\n",
    "# print(M_Data[-1])\n",
    "# print(len(M_Data))\n",
    "\n",
    "with open('filimo_90.json','w', encoding='utf-8') as film:\n",
    "    json.dump(M_Data, film,ensure_ascii=False)\n",
    "\n"
   ]
  }
 ],
 "metadata": {
  "kernelspec": {
   "display_name": "Python 3.9.6 64-bit",
   "language": "python",
   "name": "python3"
  },
  "language_info": {
   "codemirror_mode": {
    "name": "ipython",
    "version": 3
   },
   "file_extension": ".py",
   "mimetype": "text/x-python",
   "name": "python",
   "nbconvert_exporter": "python",
   "pygments_lexer": "ipython3",
   "version": "3.9.6"
  },
  "orig_nbformat": 4,
  "vscode": {
   "interpreter": {
    "hash": "81794d4967e6c3204c66dcd87b604927b115b27c00565d3d43f05ba2f3a2cb0d"
   }
  }
 },
 "nbformat": 4,
 "nbformat_minor": 2
}
